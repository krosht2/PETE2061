{
 "cells": [
  {
   "cell_type": "markdown",
   "metadata": {
    "colab_type": "text",
    "id": "u1YDPNtbdHDj"
   },
   "source": [
    "\n",
    " #  Introduction to Python Programming\n",
    "\n",
    "## PETE 2061 Lab 1 Workbook \n",
    "\n",
    "## THIS LAB IS DUE BEFORE YOU LEAVE THE ROOM!!\n",
    "\n",
    "<a id='top'></a>"
   ]
  },
  {
   "cell_type": "markdown",
   "metadata": {
    "colab_type": "text",
    "id": "krWd44XodHDp"
   },
   "source": [
    "<a id='variables'></a>\n",
    "## Volumetric Reserves Estimation\n",
    "The Stock-tank Oil Initially In Place (STOIIP) is the amount of oil that is stored in an oil reservoir. Assuming that the pore spaces in the reservoir are filled with water and oil only, the STOIIP can be estimated using the formula:<br><br>\n",
    "$STOIIP = 7758 Ah\\phi(1-S_{wi})/B_{oi}$ <br><br>\n",
    "where $A$ is the area of the reservoir in acres, <br>\n",
    "$h$ is the reservoir thickness in feet (ft), <br>\n",
    "$S_{wi}$ is the initial water saturation of the reservoir. It is the ratio of the volume of water initially in the reservoir to the total pore volume in the reservoir. It can either be expressed as a fraction or percentage. <br>\n",
    "$B_{oi}$ is the initial oil formation volume factor. It is the ratio of the volume of oil at reservoir conditions (measured in units of reservoir barrels, rb) to the volume of oil at standard conditions (measured in units of stock tank barrels, stb). This means that the unit of $B_{oi}$ is $\\frac{rb}{stb}$ <br>\n",
    "$\\phi$ is the porosity of the reservoir. It is the ratio of the pore volume to the bulk volume, and can be expressed as a fraction or in percentage. <br>\n",
    "7758 is the conversion factor from acre-ft to barrels (bbl or rb) <br><br>\n",
    "NOTE: You should be able to show that the unit of STOIIP from this equation is stb. <br>\n",
    "\n",
    "1. Given the values below, write a Python code that calculates and stores the STOIIP into a variable named \"stoiip\", and then prints the STOIIP value. <br>\n",
    "A = 200  $\\hspace{22pt}$ # in acres (store this value in a variable called \"area\")<br>\n",
    "h = 40 $\\hspace{27pt}$ # in feet (store this value in a variable called \"h\") <br>\n",
    "$\\phi$ = 0.25 $\\hspace{19pt}$ # fraction (store this value in a variable called \"poro\")<br>\n",
    "$S_{wi}$ = 0.25 $\\hspace{15pt}$ # fraction (store this value in a variable called \"s_wi\")<br>\n",
    "$B_{oi}$ = 1.1 $\\hspace{19pt}$ # rb/stb (store this value in a variable called \"b_oi\")<br>\n",
    "\n",
    "** 2 points will be deducted if answer is wrong, 3 points will be deducted if variables are not used in the calculation of STOIIP, 10 points will be deducted if question is not attempted**"
   ]
  },
  {
   "cell_type": "code",
   "execution_count": 2,
   "metadata": {},
   "outputs": [
    {
     "name": "stdout",
     "output_type": "stream",
     "text": [
      "10615909.09090909\n"
     ]
    }
   ],
   "source": [
    "area=200\n",
    "h=40\n",
    "poro=0.25\n",
    "s_wi=0.25\n",
    "b_oi=1.1\n",
    "\n",
    "stoiip=(7785*area*h*poro*(1-s_wi))/b_oi\n",
    "\n",
    "print(stoiip)"
   ]
  },
  {
   "cell_type": "markdown",
   "metadata": {},
   "source": [
    "2. The bulk volume of the reservoir (BV or $V_b$) in units of acre-ft is given as: <br>\n",
    "BV = Ah <br>\n",
    "Write a Python code that computes and stores the BV in a variable called \"bv_acreft\". Print this variable <br>\n",
    "** 1 point will be deducted if answer is wrong, 2 points will be deducted if variables are not used in the calculation, 2 points will be deducted if the variable is not printed, and 10 points will be deducted if question is not attempted**"
   ]
  },
  {
   "cell_type": "code",
   "execution_count": 3,
   "metadata": {},
   "outputs": [
    {
     "name": "stdout",
     "output_type": "stream",
     "text": [
      "8000\n"
     ]
    }
   ],
   "source": [
    "bv_acreft=area*h\n",
    "\n",
    "print(bv_acreft)"
   ]
  },
  {
   "cell_type": "markdown",
   "metadata": {},
   "source": [
    "3. Write a Python code to convert the BV from (2) above to barrels (rb) using the given conversion factor, and store this in a variable called \"bv_rb\". Print this variable <br>\n",
    "** 1 point will be deducted if answer is wrong, 2 points will be deducted if variables are not used in the calculation, 2 points will be deducted if the variable is not printed, and 10 points will be deducted if question is not attempted**"
   ]
  },
  {
   "cell_type": "code",
   "execution_count": 4,
   "metadata": {},
   "outputs": [
    {
     "name": "stdout",
     "output_type": "stream",
     "text": [
      "62064000\n"
     ]
    }
   ],
   "source": [
    "bv_rb=bv_acreft*7758\n",
    "\n",
    "print(bv_rb)"
   ]
  },
  {
   "cell_type": "markdown",
   "metadata": {},
   "source": [
    "4. The pore volume of the reservoir is the total volume available available to store fluids in the reservoir. It is the product of the bulk volume and porosity.<br>\n",
    "Write a Python code to compute the pore volume of the reservoir in acre-ft and in rb, and store these in the variables \"v_p_acreft\" and \"v_p_rb\" respectively. Print these two variables in one print statement<br>\n",
    "** 1 point will be deducted if answer is wrong, 2 points will be deducted if variables are not used in the calculation, 2 points will be deducted if the variables are not printed, and 10 points will be deducted if question is not attempted**"
   ]
  },
  {
   "cell_type": "code",
   "execution_count": 5,
   "metadata": {},
   "outputs": [
    {
     "name": "stdout",
     "output_type": "stream",
     "text": [
      "2000.0 15516000.0\n"
     ]
    }
   ],
   "source": [
    "v_p_acreft=bv_acreft*poro\n",
    "v_p_rb=bv_rb*poro\n",
    "\n",
    "print(v_p_acreft, v_p_rb)"
   ]
  },
  {
   "cell_type": "markdown",
   "metadata": {},
   "source": [
    "5. The hydrocarbon pore volume (HCPV) in units of rb is the product of the pore volume in rb and initial oil saturation (which is 1-$S_{wi}$, because the reservoir contains oil and water only). The HCPV is given as: <br>\n",
    "$HCPV = 7758 Ah\\phi(1-S_{wi})$ <br>\n",
    "Write a Python code that computes and stores the HCPV (in rb) in a variable called \"hcpv\". Print this variable <br>\n",
    "** 1 point will be deducted if answer is wrong, 2 points will be deducted if variables are not used in the calculation, 2 points will be deducted if the variable is not printed, and 10 points will be deducted if question is not attempted**"
   ]
  },
  {
   "cell_type": "code",
   "execution_count": 6,
   "metadata": {},
   "outputs": [
    {
     "name": "stdout",
     "output_type": "stream",
     "text": [
      "11637000.0\n"
     ]
    }
   ],
   "source": [
    "hcpv=v_p_rb*(1-s_wi)\n",
    "\n",
    "print(hcpv)"
   ]
  },
  {
   "cell_type": "markdown",
   "metadata": {},
   "source": [
    "6. Two other reservoirs (reservoir B and reservoir C) have identical parameters with the first reservoir (reservoir A) but with porosity values 0.30 and 0.35, respectively. <br>\n",
    "    * Write one line of Python code to assign these two porosity values to variables \"poro_B\" and \"poro_C\", respectively.\n",
    "    * Write a Python code to compute the STOIIP values of reservoirs B and C. Store these in variables \"stoiip_B\" and stoiip_C\", respectively.\n",
    "    * Write a Python code to compute the (arithmetic) mean of the STOIIPs of these 3 reservoirs.\n",
    "    * Write a print statement that uses the greater than operator to compare the STOIIP of reservoir B to that of reservoir C.<br> *Hint: print(STOIIP_B!=STOIIP_C) will test if STOIIP_B is not equal to STOIIP_C. This question asks you to test if STOIIP_B is greater than STOIIP_C.*\n",
    "    * Write a python code that adds 10% of the STOIIP of reservoir B to its original value, using the \"+=\" operator\n",
    "    * Write a fast python code that updates the STOIIP of reservoir C to 90% of its original value\n",
    "    \n",
    "    ** 1 point will be deducted for each wrong answer, 2 points will be deducted for every calculation that uses the numbers directly instead of the corresponding variables that hold these numbers, and 20 points will be deducted if this question is not attempted**"
   ]
  },
  {
   "cell_type": "code",
   "execution_count": 9,
   "metadata": {},
   "outputs": [
    {
     "ename": "NameError",
     "evalue": "name 'area' is not defined",
     "output_type": "error",
     "traceback": [
      "\u001b[1;31m---------------------------------------------------------------------------\u001b[0m",
      "\u001b[1;31mNameError\u001b[0m                                 Traceback (most recent call last)",
      "\u001b[1;32m<ipython-input-9-133315634c6c>\u001b[0m in \u001b[0;36m<module>\u001b[1;34m\u001b[0m\n\u001b[0;32m      1\u001b[0m \u001b[0mporo_B\u001b[0m\u001b[1;33m,\u001b[0m\u001b[0mporo_C\u001b[0m\u001b[1;33m=\u001b[0m\u001b[1;36m0.30\u001b[0m\u001b[1;33m,\u001b[0m\u001b[1;36m0.35\u001b[0m\u001b[1;33m\u001b[0m\u001b[1;33m\u001b[0m\u001b[0m\n\u001b[0;32m      2\u001b[0m \u001b[1;33m\u001b[0m\u001b[0m\n\u001b[1;32m----> 3\u001b[1;33m \u001b[0mstoiip_B\u001b[0m\u001b[1;33m=\u001b[0m\u001b[1;33m(\u001b[0m\u001b[1;36m7758\u001b[0m\u001b[1;33m*\u001b[0m\u001b[0marea\u001b[0m\u001b[1;33m*\u001b[0m\u001b[0mh\u001b[0m\u001b[1;33m*\u001b[0m\u001b[0mporo_B\u001b[0m\u001b[1;33m*\u001b[0m\u001b[1;33m(\u001b[0m\u001b[1;36m1\u001b[0m\u001b[1;33m-\u001b[0m\u001b[0ms_wi\u001b[0m\u001b[1;33m)\u001b[0m\u001b[1;33m)\u001b[0m\u001b[1;33m/\u001b[0m\u001b[0mb_oi\u001b[0m\u001b[1;33m\u001b[0m\u001b[1;33m\u001b[0m\u001b[0m\n\u001b[0m\u001b[0;32m      4\u001b[0m \u001b[0mstoiip_C\u001b[0m\u001b[1;33m=\u001b[0m\u001b[1;33m(\u001b[0m\u001b[1;36m7758\u001b[0m\u001b[1;33m*\u001b[0m\u001b[0marea\u001b[0m\u001b[1;33m*\u001b[0m\u001b[0mh\u001b[0m\u001b[1;33m*\u001b[0m\u001b[0mporo_C\u001b[0m\u001b[1;33m*\u001b[0m\u001b[1;33m(\u001b[0m\u001b[1;36m1\u001b[0m\u001b[1;33m-\u001b[0m\u001b[0ms_wi\u001b[0m\u001b[1;33m)\u001b[0m\u001b[1;33m)\u001b[0m\u001b[1;33m/\u001b[0m\u001b[0mb_oi\u001b[0m\u001b[1;33m\u001b[0m\u001b[1;33m\u001b[0m\u001b[0m\n\u001b[0;32m      5\u001b[0m \u001b[1;33m\u001b[0m\u001b[0m\n",
      "\u001b[1;31mNameError\u001b[0m: name 'area' is not defined"
     ]
    }
   ],
   "source": [
    "poro_B,poro_C=0.30,0.35\n",
    "\n",
    "stoiip_B=(7758*area*h*poro_B*(1-s_wi))/b_oi\n",
    "stoiip_C=(7758*area*h*poro_C*(1-s_wi))/b_oi\n",
    "\n",
    "mean_stoiip=(stoiip+stoiip_B+stoiip_C)/3.0\n",
    "\n",
    "print(stoiip_B>stoiip_C)\n",
    "\n",
    "stoiip_B+=0.10*stoiip_B\n",
    "\n",
    "stoiip_C=0.90*stoiip_C"
   ]
  },
  {
   "cell_type": "code",
   "execution_count": null,
   "metadata": {
    "scrolled": false
   },
   "outputs": [],
   "source": []
  },
  {
   "cell_type": "code",
   "execution_count": null,
   "metadata": {},
   "outputs": [],
   "source": []
  }
 ],
 "metadata": {
  "colab": {
   "collapsed_sections": [
    "sYQs3O-6dHFb",
    "8sIJ4A57dHFk",
    "_73RPOcBdHFn",
    "h9s2tfPcdHFo",
    "zt4YHVYPdHGR"
   ],
   "include_colab_link": true,
   "name": "Copy of intro-python-colab.ipynb",
   "provenance": [],
   "version": "0.3.2"
  },
  "kernelspec": {
   "display_name": "Python 3",
   "language": "python",
   "name": "python3"
  },
  "language_info": {
   "codemirror_mode": {
    "name": "ipython",
    "version": 3
   },
   "file_extension": ".py",
   "mimetype": "text/x-python",
   "name": "python",
   "nbconvert_exporter": "python",
   "pygments_lexer": "ipython3",
   "version": "3.8.8"
  }
 },
 "nbformat": 4,
 "nbformat_minor": 1
}
